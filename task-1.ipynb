{
 "cells": [
  {
   "cell_type": "code",
   "execution_count": 3,
   "id": "f9894c1d",
   "metadata": {},
   "outputs": [],
   "source": [
    "def SA_is_alternating_path(n,edges,matching,pairs): # pairs is a list of edges, is it an alternating path?\n",
    "    def edge_equal(edge1,edge2):\n",
    "        if edge1 == edge2:\n",
    "            return True\n",
    "        else:\n",
    "            (a,b) = edge1\n",
    "            return (b,a) == edge2    \n",
    "    \n",
    "    def find_edge(edge,edges):\n",
    "        # find the first edge in edges edge_equal to the given edge\n",
    "        #  or None if there isn't one\n",
    "        return next((edge2 for edge2 in edges if edge_equal(edge,edge2)),None)\n",
    "    \n",
    "\n",
    "    def are_edges_incident(edge1,edge2):\n",
    "        (a,b) = edge1\n",
    "        return a in edge2 or b in edge2\n",
    "    \n",
    "    def is_path(n,edges,path): # is path a valid path? \n",
    "        # i.e., is every element of path an edge in the sense of edge_equal ?\n",
    "        # and are consecutive edges adjacent ?\n",
    "        for pair in path:\n",
    "            if not next((edge for edge in edges if edge_equal(edge,pair)),False):\n",
    "                return False\n",
    "        for i in range(len(path)-1):\n",
    "            if not are_edges_incident(path[i],path[i+1]):\n",
    "                return False\n",
    "        return True\n",
    "\n",
    "    if pairs == []:\n",
    "        return True # TODO, not sure whether this is correct\n",
    "    if not is_path(n,edges,pairs):\n",
    "        return False\n",
    "    expected_parity = find_edge(pairs[0], matching) != None\n",
    "    for pair in pairs:\n",
    "        parity = find_edge(pair,matching) != None\n",
    "        if parity != expected_parity:\n",
    "            return False\n",
    "        expected_parity = not parity\n",
    "    return True\n",
    "\n",
    "def SA_is_augmenting_path(n,edges,matching,path):\n",
    "    # path is a list of verticies\n",
    "    # matching is a list of edges, in the sense of edge_equal\n",
    "\n",
    "    def path_to_pairs(path): # return a list of pairs of points, presumably edges\n",
    "        def loop(i,pairs):\n",
    "            if i == len(path)-1:\n",
    "                return pairs\n",
    "            else:\n",
    "                return loop(i+1,pairs + [(path[i],path[i+1])])\n",
    "        return loop(0,[])\n",
    "\n",
    "    def is_free_vertex(n,matching,v):\n",
    "        # we assume that matching is a valid matching (without verifying)\n",
    "        #  is v a vertex of the graph which is not adjacent to any edge in the matching\n",
    "        if v < 0:\n",
    "            return False\n",
    "        if v >= n:\n",
    "            return False\n",
    "        for (a,b) in matching:\n",
    "            if a == v or b == v:\n",
    "                return False\n",
    "        return True\n",
    "\n",
    "    if len(path) % 2 == 1:\n",
    "        return False\n",
    "    if path == []:\n",
    "        return False\n",
    "    return is_free_vertex(n,matching,path[0]) \\\n",
    "            and is_free_vertex(n,matching,path[len(path)-1]) \\\n",
    "            and SA_is_alternating_path(n,edges,matching,path_to_pairs(path))\n"
   ]
  },
  {
   "cell_type": "markdown",
   "id": "cddfca71",
   "metadata": {},
   "source": [
    "# Enter the values of function parameters"
   ]
  },
  {
   "cell_type": "code",
   "execution_count": 20,
   "id": "165b991e",
   "metadata": {},
   "outputs": [
    {
     "data": {
      "text/plain": [
       "True"
      ]
     },
     "execution_count": 20,
     "metadata": {},
     "output_type": "execute_result"
    }
   ],
   "source": [
    "par=[3,[(0,1),(1,2),(2,3),(3,1),(3,2)],[(2,1)],[(3,1)]]\n"
   ]
  },
  {
   "cell_type": "markdown",
   "id": "73696e12",
   "metadata": {},
   "source": [
    "# Showing the graph "
   ]
  },
  {
   "cell_type": "code",
   "execution_count": 21,
   "id": "a95d0b77",
   "metadata": {},
   "outputs": [
    {
     "data": {
      "text/plain": [
       "True"
      ]
     },
     "execution_count": 21,
     "metadata": {},
     "output_type": "execute_result"
    }
   ],
   "source": [
    "p=SA_is_alternating_path(par[0],par[1],par[2],par[3])\n",
    "p"
   ]
  },
  {
   "cell_type": "code",
   "execution_count": 15,
   "id": "b577b99a",
   "metadata": {},
   "outputs": [],
   "source": [
    "#par = SA_is_alternating_path(3,[(0,1),(2,1),(0,2)],[(2,1)],[(2,1)])\n",
    "\n",
    "\n",
    "#p=SA_is_alternating_path(par[0],par[1],par[2],par[3])\n",
    "#par"
   ]
  },
  {
   "cell_type": "code",
   "execution_count": 19,
   "id": "312a5622",
   "metadata": {},
   "outputs": [
    {
     "data": {
      "image/png": "[encoded data removed]",
      "text/plain": [
       "<Figure size 432x288 with 1 Axes>"
      ]
     },
     "metadata": {},
     "output_type": "display_data"
    }
   ],
   "source": [
    "# First networkx library is imported\n",
    "# along with matplotlib\n",
    "import networkx as nx\n",
    "import matplotlib.pyplot as plt\n",
    "\n",
    "\n",
    "# Defining a Class\n",
    "class GraphVisualization:\n",
    "\n",
    "\tdef __init__(self):\n",
    "\t\t\n",
    "\t\t# visual is a list which stores all\n",
    "\t\t# the set of edges that constitutes a\n",
    "\t\t# graph\n",
    "\t\tself.visual = []\n",
    "\t\t\n",
    "\t# addEdge function inputs the vertices of an\n",
    "\t# edge and appends it to the visual list\n",
    "\tdef addEdge(self, a, b):\n",
    "\t\ttemp = [a, b]\n",
    "\t\tself.visual.append(temp)\n",
    "\t\t\n",
    "\t# In visualize function G is an object of\n",
    "\t# class Graph given by networkx G.add_edges_from(visual)\n",
    "\t# creates a graph with a given list\n",
    "\t# nx.draw_networkx(G) - plots the graph\n",
    "\t# plt.show() - displays the graph\n",
    "\tdef visualize(self):\n",
    "\t\tG = nx.Graph()\n",
    "\t\tG.add_edges_from(self.visual)\n",
    "\t\tnx.draw_networkx(G)\n",
    "\t\tplt.show()\n",
    "\n",
    "# Driver code\n",
    "G = GraphVisualization()\n",
    "i=par[1]\n",
    "for j in i:\n",
    "    a=j[0]\n",
    "    b=j[1]\n",
    "    G.addEdge(a, b)\n",
    "   \n",
    "    \n",
    "\n",
    "\n",
    "G.visualize()\n"
   ]
  },
  {
   "cell_type": "code",
   "execution_count": null,
   "id": "fa3d8fad",
   "metadata": {},
   "outputs": [],
   "source": []
  }
 ],
 "metadata": {
  "kernelspec": {
   "display_name": "Python 3 (ipykernel)",
   "language": "python",
   "name": "python3"
  },
  "language_info": {
   "codemirror_mode": {
    "name": "ipython",
    "version": 3
   },
   "file_extension": ".py",
   "mimetype": "text/x-python",
   "name": "python",
   "nbconvert_exporter": "python",
   "pygments_lexer": "ipython3",
   "version": "3.9.7"
  }
 },
 "nbformat": 4,
 "nbformat_minor": 5
}
